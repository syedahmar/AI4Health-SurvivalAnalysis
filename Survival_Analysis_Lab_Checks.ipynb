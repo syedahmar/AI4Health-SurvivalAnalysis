{
 "cells": [
  {
   "cell_type": "markdown",
   "id": "981a54d2",
   "metadata": {},
   "source": [
    "# ✅ Survival Analysis Setup Check\n",
    "This notebook will verify that your Python environment is ready for the upcoming class.\n",
    "It will:\n",
    "- Import all required libraries\n",
    "- Print their versions\n",
    "- Alert you if something is missing"
   ]
  },
  {
   "cell_type": "code",
   "execution_count": 1,
   "id": "ab27bbc4",
   "metadata": {},
   "outputs": [
    {
     "name": "stdout",
     "output_type": "stream",
     "text": [
      "Python version: 3.9.21 (main, Dec 11 2024, 16:35:24) [MSC v.1929 64 bit (AMD64)]\n",
      "numpy version: 1.24.4\n",
      "pandas version: 2.2.3\n",
      "matplotlib version: 3.8.0.dev555+g75a35e0fed\n",
      "seaborn version: 0.13.2\n",
      "scikit-learn version: 1.5.2\n",
      "lifelines version: 0.30.0\n",
      "torchtuples version: 0.2.2\n",
      "torch version: 2.7.0+cu118\n",
      "pycox version: 0.3.0\n",
      "scikit-survival version: 0.23.1\n"
     ]
    }
   ],
   "source": [
    "import sys\n",
    "import numpy\n",
    "import pandas\n",
    "import matplotlib\n",
    "import seaborn\n",
    "import sklearn\n",
    "import lifelines\n",
    "import torchtuples\n",
    "import torch\n",
    "import pycox\n",
    "import sksurv\n",
    "\n",
    "print(f'Python version: {sys.version}')\n",
    "print(f'numpy version: {numpy.__version__}')\n",
    "print(f'pandas version: {pandas.__version__}')\n",
    "print(f'matplotlib version: {matplotlib.__version__}')\n",
    "print(f'seaborn version: {seaborn.__version__}')\n",
    "print(f'scikit-learn version: {sklearn.__version__}')\n",
    "print(f'lifelines version: {lifelines.__version__}')\n",
    "print(f'torchtuples version: {torchtuples.__version__}')\n",
    "print(f'torch version: {torch.__version__}')\n",
    "print(f'pycox version: {pycox.__version__}')\n",
    "print(f'scikit-survival version: {sksurv.__version__}')"
   ]
  },
  {
   "cell_type": "code",
   "execution_count": null,
   "id": "b6ec42fc-4d86-463a-866c-0c5ff862981c",
   "metadata": {},
   "outputs": [],
   "source": []
  }
 ],
 "metadata": {
  "kernelspec": {
   "display_name": "Python 3 (ipykernel)",
   "language": "python",
   "name": "python3"
  },
  "language_info": {
   "codemirror_mode": {
    "name": "ipython",
    "version": 3
   },
   "file_extension": ".py",
   "mimetype": "text/x-python",
   "name": "python",
   "nbconvert_exporter": "python",
   "pygments_lexer": "ipython3",
   "version": "3.9.21"
  }
 },
 "nbformat": 4,
 "nbformat_minor": 5
}
